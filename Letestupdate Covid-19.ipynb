{
 "cells": [
  {
   "cell_type": "code",
   "execution_count": 2,
   "metadata": {},
   "outputs": [
    {
     "name": "stdout",
     "output_type": "stream",
     "text": [
      "enter the country\n",
      "India\n",
      "{'id': '80', 'country': 'India', 'confirmed': 6906151, 'active': 893592, 'deaths': 106490, 'recovered': 5906069, 'latitude': 20.593684, 'longitude': 78.96288, 'last_update': 1602253412000}\n"
     ]
    }
   ],
   "source": [
    "import covid\n",
    "from covid import Covid\n",
    "covid=Covid()\n",
    "print(\"enter the country\")\n",
    "cname=input()\n",
    "\n",
    "cname=covid.get_status_by_country_name(cname)\n",
    "'''\n",
    "data={\n",
    "    key:canme[key]\n",
    "    for key in cname.keys()and {'confirmed','active','death','recovered'}\n",
    "}\n",
    "'''\n",
    "print(cname)"
   ]
  },
  {
   "cell_type": "code",
   "execution_count": null,
   "metadata": {},
   "outputs": [],
   "source": []
  }
 ],
 "metadata": {
  "kernelspec": {
   "display_name": "Python 3",
   "language": "python",
   "name": "python3"
  },
  "language_info": {
   "codemirror_mode": {
    "name": "ipython",
    "version": 3
   },
   "file_extension": ".py",
   "mimetype": "text/x-python",
   "name": "python",
   "nbconvert_exporter": "python",
   "pygments_lexer": "ipython3",
   "version": "3.8.3"
  }
 },
 "nbformat": 4,
 "nbformat_minor": 4
}
